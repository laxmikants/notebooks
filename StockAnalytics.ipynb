{
 "cells": [
  {
   "cell_type": "markdown",
   "metadata": {},
   "source": [
    "*** 1: Importing libraries ***"
   ]
  },
  {
   "cell_type": "code",
   "execution_count": 3,
   "metadata": {},
   "outputs": [],
   "source": [
    "import investpy\n",
    "from datetime import datetime\n",
    "from sklearn.linear_model import LogisticRegression\n",
    "from sklearn.metrics import confusion_matrix\n",
    "from sklearn import metrics\n",
    "from scipy import stats \n",
    "import numpy as np\n",
    "import pandas as pd\n",
    "import talib"
   ]
  },
  {
   "cell_type": "markdown",
   "metadata": {},
   "source": [
    "\n",
    "***2:Fetching the data***\n",
    "\n"
   ]
  },
  {
   "cell_type": "code",
   "execution_count": 31,
   "metadata": {},
   "outputs": [],
   "source": [
    "usdinr = investpy.get_currency_cross_historical_data(currency_cross='USD/INR', from_date='01/12/2019', to_date='29/10/2020')\n",
    "\n",
    "dfusd = investpy.get_commodity_historical_data(commodity='Silver', from_date='01/12/2019', to_date='29/10/2020')\n",
    "\n",
    "df = investpy.commodities.get_commodity_historical_data(commodity='MCX Silver',from_date='01/12/2019',to_date='29/10/2020', country = \"India\")\n",
    "\n",
    "df['High'] = df['High'] / 1000\n",
    "df['Low'] = df['Low'] / 1000\n",
    "df['Open'] = df['Open'] / 1000\n",
    "df['Close'] = df['Close'] / 1000\n",
    "\n",
    "df.drop(['Currency'], axis = 1)\n",
    "\n",
    "df['usdinr'] = usdinr['Close']\n",
    "\n",
    "df['usdsilver'] = dfusd['Close']\n",
    "\n"
   ]
  },
  {
   "cell_type": "code",
   "execution_count": 7,
   "metadata": {},
   "outputs": [
    {
     "name": "stdout",
     "output_type": "stream",
     "text": [
      "              Open    High     Low   Close  Volume Currency  usdinr  usdsilver\n",
      "Date                                                                          \n",
      "2020-10-23  62.658  63.066  62.063  62.449   21726      INR  73.829     24.675\n",
      "2020-10-26  61.720  62.480  61.251  61.906   25339      INR  73.960     24.420\n",
      "2020-10-27  62.341  62.580  61.510  62.281   20830      INR  73.622     24.570\n",
      "2020-10-28  62.060  62.500  59.100  60.138   38872      INR  74.180     23.359\n",
      "2020-10-29  60.069  60.334  58.475  58.671   19977      INR  74.438     22.780\n"
     ]
    }
   ],
   "source": [
    "print(df.tail(5))"
   ]
  },
  {
   "cell_type": "markdown",
   "metadata": {},
   "source": [
    "***3. Calculating the z-scores of the closing prices***"
   ]
  },
  {
   "cell_type": "code",
   "execution_count": 8,
   "metadata": {},
   "outputs": [
    {
     "name": "stdout",
     "output_type": "stream",
     "text": [
      "Date\n",
      "2020-09-17    1.727376\n",
      "2020-09-18    1.699703\n",
      "2020-09-21    1.014561\n",
      "2020-09-22    1.003805\n",
      "2020-09-23    0.719243\n",
      "2020-09-24    0.838394\n",
      "2020-09-25    0.775529\n",
      "2020-09-28    0.918489\n",
      "2020-09-29    1.134652\n",
      "2020-09-30    0.868677\n",
      "2020-10-01    0.996704\n",
      "2020-10-05    1.079828\n",
      "2020-10-06    0.936763\n",
      "2020-10-07    0.920891\n",
      "2020-10-08    0.931333\n",
      "2020-10-09    1.178302\n",
      "2020-10-12    1.200649\n",
      "2020-10-13    0.933735\n",
      "2020-10-14    1.044532\n",
      "2020-10-15    1.037431\n",
      "2020-10-16    1.052155\n",
      "2020-10-19    1.095909\n",
      "2020-10-20    1.203364\n",
      "2020-10-21    1.256100\n",
      "2020-10-22    1.150211\n",
      "2020-10-23    1.132876\n",
      "2020-10-26    1.076173\n",
      "2020-10-27    1.115333\n",
      "2020-10-28    0.891547\n",
      "2020-10-29    0.738353\n",
      "Name: zscore, dtype: float64\n"
     ]
    }
   ],
   "source": [
    "df['zscore'] = stats.zscore(df['Close'])\n",
    "\n",
    "print(df['zscore'].tail(30))\n",
    "\n"
   ]
  },
  {
   "cell_type": "markdown",
   "metadata": {},
   "source": [
    "***4. Calculating the pivot points, support and resistance levels ***"
   ]
  },
  {
   "cell_type": "code",
   "execution_count": 9,
   "metadata": {},
   "outputs": [
    {
     "name": "stdout",
     "output_type": "stream",
     "text": [
      "                   PP         R1         S1         R2         S2         R3  \\\n",
      "Date                                                                           \n",
      "2020-10-23  62.526000  62.989000  61.986000  63.529000  61.523000  63.992000   \n",
      "2020-10-26  61.879000  62.507000  61.278000  63.108000  60.650000  63.736000   \n",
      "2020-10-27  62.123667  62.737333  61.667333  63.193667  61.053667  63.807333   \n",
      "2020-10-28  60.579333  62.058667  58.658667  63.979333  57.179333  65.458667   \n",
      "2020-10-29  59.160000  59.845000  57.986000  61.019000  57.301000  61.704000   \n",
      "\n",
      "                   S3  \n",
      "Date                   \n",
      "2020-10-23  60.983000  \n",
      "2020-10-26  60.049000  \n",
      "2020-10-27  60.597333  \n",
      "2020-10-28  55.258667  \n",
      "2020-10-29  56.127000  \n"
     ]
    }
   ],
   "source": [
    "pd.set_option('display.max_columns', 10)\n",
    "PP = pd.Series((df['High'] + df['Low'] + df['Close']) / 3)  \n",
    "R1 = pd.Series(2 * PP - df['Low'])  \n",
    "S1 = pd.Series(2 * PP - df['High'])  \n",
    "R2 = pd.Series(PP + df['High'] - df['Low'])  \n",
    "S2 = pd.Series(PP - df['High'] + df['Low'])  \n",
    "R3 = pd.Series(df['High'] + 2 * (PP - df['Low']))  \n",
    "S3 = pd.Series(df['Low'] - 2 * (df['High'] - PP))  \n",
    "psr = {'PP':PP, 'R1':R1, 'S1':S1, 'R2':R2, 'S2':S2, 'R3':R3, 'S3':S3}  \n",
    "PSR = pd.DataFrame(psr)  \n",
    "print(PSR.tail())\n"
   ]
  },
  {
   "cell_type": "markdown",
   "metadata": {},
   "source": [
    "*** 5 Calculating high/low percentage change ***"
   ]
  },
  {
   "cell_type": "code",
   "execution_count": 10,
   "metadata": {},
   "outputs": [],
   "source": [
    "df[ 'PCT_Change' ] = (df[ 'Close' ] - df[ 'Open' ]) / df[ 'Open' ]\n"
   ]
  },
  {
   "cell_type": "code",
   "execution_count": 11,
   "metadata": {},
   "outputs": [
    {
     "name": "stdout",
     "output_type": "stream",
     "text": [
      "              Open    High     Low   Close  Volume  ...  usdinr  usdsilver  \\\n",
      "Date                                                ...                      \n",
      "2020-10-23  62.658  63.066  62.063  62.449   21726  ...  73.829     24.675   \n",
      "2020-10-26  61.720  62.480  61.251  61.906   25339  ...  73.960     24.420   \n",
      "2020-10-27  62.341  62.580  61.510  62.281   20830  ...  73.622     24.570   \n",
      "2020-10-28  62.060  62.500  59.100  60.138   38872  ...  74.180     23.359   \n",
      "2020-10-29  60.069  60.334  58.475  58.671   19977  ...  74.438     22.780   \n",
      "\n",
      "              zscore  PCT_Change    HL_PCT  \n",
      "Date                                        \n",
      "2020-10-23  1.132876   -0.003336  0.016061  \n",
      "2020-10-26  1.076173    0.003014  0.019853  \n",
      "2020-10-27  1.115333   -0.000962  0.017180  \n",
      "2020-10-28  0.891547   -0.030970  0.056537  \n",
      "2020-10-29  0.738353   -0.023273  0.031685  \n",
      "\n",
      "[5 rows x 11 columns]\n"
     ]
    }
   ],
   "source": [
    "df[ 'HL_PCT' ] = (df[ 'High' ] - df[ 'Low' ]) / df[ 'Close' ]\n",
    "print(df.tail())\n"
   ]
  },
  {
   "cell_type": "markdown",
   "metadata": {},
   "source": [
    "*** 6. Calculating the moving average ***"
   ]
  },
  {
   "cell_type": "code",
   "execution_count": 12,
   "metadata": {},
   "outputs": [
    {
     "name": "stdout",
     "output_type": "stream",
     "text": [
      "             Close  5d_ma  20d_ma  50d_ma  100d_ma  200d_ma\n",
      "Date                                                       \n",
      "2020-10-21  63.629  62.41   61.24   64.75    59.85    52.17\n",
      "2020-10-22  62.615  62.63   61.44   64.67    59.99    52.24\n",
      "2020-10-23  62.449  62.78   61.58   64.49    60.12    52.32\n",
      "2020-10-26  61.906  62.74   61.73   64.39    60.27    52.40\n",
      "2020-10-27  62.281  62.58   61.82   64.25    60.41    52.48\n",
      "2020-10-28  60.138  61.88   61.70   64.06    60.53    52.55\n",
      "2020-10-29  58.671  61.09   61.64   63.88    60.64    52.61\n"
     ]
    }
   ],
   "source": [
    "\n",
    "df[ '5d_ma' ] = round(df[ 'Close' ].rolling( window = 5 , min_periods = 0 ).mean(),2)\n",
    "df[ '20d_ma' ] = round(df[ 'Close' ].rolling( window = 20 , min_periods = 0 ).mean(),2)\n",
    "df['50d_ma'] = round(df[ 'Close' ].rolling(window = 50, min_periods = 0).mean(),2)\n",
    "df['100d_ma'] = round(df[ 'Close' ].rolling(window = 100, min_periods = 0).mean(),2)\n",
    "df['200d_ma'] = round(df[ 'Close' ].rolling(window = 200, min_periods = 0).mean(),2)\n",
    "\n",
    "#df[ '20d_ma' ] = round(df.Close.ewm(span=21, adjust=False).mean(),2)\n",
    "#df['50d_ma'] = round(df.Close.ewm(span=49, adjust=False).mean(),2)\n",
    "\n",
    "#df['100d_ma'] = round(df.Close.ewm(span=98, adjust=False).mean(),2)\n",
    "#df['200d_ma'] = round(df.Close.ewm(span=196, adjust=False).mean(),2)\n",
    "\n",
    "print(df[['Close','5d_ma','20d_ma','50d_ma','100d_ma','200d_ma']].tail(7))\n",
    "\n"
   ]
  },
  {
   "cell_type": "markdown",
   "metadata": {},
   "source": [
    "***7. Calculating standard deviation ***"
   ]
  },
  {
   "cell_type": "code",
   "execution_count": 13,
   "metadata": {},
   "outputs": [
    {
     "name": "stdout",
     "output_type": "stream",
     "text": [
      "Date\n",
      "2020-10-21    1.042806\n",
      "2020-10-22    0.820813\n",
      "2020-10-23    0.756501\n",
      "2020-10-26    0.692300\n",
      "2020-10-27    0.604622\n",
      "2020-10-28    1.110273\n",
      "2020-10-29    1.688569\n",
      "Name: Std_dev, dtype: float64\n"
     ]
    }
   ],
   "source": [
    "df['Std_dev']= df['Close'].rolling(7).std()  \n",
    "print(df['Std_dev'].tail(7))\n"
   ]
  },
  {
   "cell_type": "markdown",
   "metadata": {},
   "source": [
    "***8. Calculating the RSI level***"
   ]
  },
  {
   "cell_type": "code",
   "execution_count": 14,
   "metadata": {},
   "outputs": [
    {
     "name": "stdout",
     "output_type": "stream",
     "text": [
      "                  RSI\n",
      "Date                 \n",
      "2020-10-23  50.779743\n",
      "2020-10-26  47.052882\n",
      "2020-10-27  49.909126\n",
      "2020-10-28  37.057182\n",
      "2020-10-29  30.924481\n"
     ]
    }
   ],
   "source": [
    "df['RSI'] = talib.RSI(df['Close'].values, timeperiod = 9)    \n",
    "print(df[['RSI']].tail())\n"
   ]
  },
  {
   "cell_type": "markdown",
   "metadata": {},
   "source": [
    "***9. Calculating the williams % R ***"
   ]
  },
  {
   "cell_type": "code",
   "execution_count": 15,
   "metadata": {},
   "outputs": [
    {
     "name": "stdout",
     "output_type": "stream",
     "text": [
      "            Williams %R\n",
      "Date                   \n",
      "2020-10-21   -10.376471\n",
      "2020-10-22   -34.235294\n",
      "2020-10-23   -38.141176\n",
      "2020-10-26   -74.801244\n",
      "2020-10-27   -61.838922\n",
      "2020-10-28   -79.114688\n",
      "2020-10-29   -96.496872\n"
     ]
    }
   ],
   "source": [
    "df['Williams %R'] = talib.WILLR(df['High'].values,df['Low'].values, df['Close'].values, 7)\n",
    " \n",
    "print(df[['Williams %R']].tail(7))\n"
   ]
  },
  {
   "cell_type": "markdown",
   "metadata": {},
   "source": [
    "***10. Average Directional Index ***"
   ]
  },
  {
   "cell_type": "code",
   "execution_count": 16,
   "metadata": {},
   "outputs": [
    {
     "name": "stdout",
     "output_type": "stream",
     "text": [
      "                  ADX\n",
      "Date                 \n",
      "2020-10-21  18.008233\n",
      "2020-10-22  16.015403\n",
      "2020-10-23  14.307263\n",
      "2020-10-26  14.954488\n",
      "2020-10-27  15.141639\n",
      "2020-10-28  19.828925\n",
      "2020-10-29  24.610467\n"
     ]
    }
   ],
   "source": [
    "df['ADX'] = talib.ADX(df['High'].values,df['Low'].values, df['Close'].values, 7)\n",
    "\n",
    "\n",
    "print(df[['ADX']].tail(7))\n"
   ]
  },
  {
   "cell_type": "markdown",
   "metadata": {},
   "source": [
    "***11. MACD ***"
   ]
  },
  {
   "cell_type": "code",
   "execution_count": 17,
   "metadata": {},
   "outputs": [
    {
     "name": "stdout",
     "output_type": "stream",
     "text": [
      "            MACD_IND\n",
      "Date                \n",
      "2020-10-23  0.338732\n",
      "2020-10-26  0.266362\n",
      "2020-10-27  0.236591\n",
      "2020-10-28  0.073847\n",
      "2020-10-29 -0.120736\n"
     ]
    }
   ],
   "source": [
    "ShortEMA = df.Close.ewm(span=12, adjust=False).mean() #AKA Fast moving average\n",
    "#Calculate the Long Term Exponential Moving Average\n",
    "LongEMA = df.Close.ewm(span=26, adjust=False).mean() #AKA Slow moving average\n",
    "#Calculate the Moving Average Convergence/Divergence (MACD)\n",
    "MACD = ShortEMA - LongEMA\n",
    "#Calcualte the signal line\n",
    "signal = MACD.ewm(span=9, adjust=False).mean()\n",
    "\n",
    "df['MACD'] = MACD\n",
    "\n",
    "df['Signal Line'] = signal\n",
    "\n",
    "df['MACD_IND'] = df['MACD'] - df['Signal Line']\n",
    "\n",
    "print(df[['MACD_IND']].tail())\n"
   ]
  },
  {
   "cell_type": "markdown",
   "metadata": {},
   "source": [
    "***12. Bollinger Bands***"
   ]
  },
  {
   "cell_type": "code",
   "execution_count": 18,
   "metadata": {},
   "outputs": [
    {
     "name": "stdout",
     "output_type": "stream",
     "text": [
      "64.54 61.62 58.69\n"
     ]
    }
   ],
   "source": [
    "\n",
    "from talib import MA_Type\n",
    "\n",
    "upper, middle, lower = talib.BBANDS(df['Close'].values, matype=MA_Type.T3)\n",
    "\n",
    "print(round(upper[-1],2),round(middle[-1],2),round(lower[-1],2))\n"
   ]
  },
  {
   "cell_type": "code",
   "execution_count": 19,
   "metadata": {},
   "outputs": [],
   "source": [
    "df.dropna( inplace = True )\n"
   ]
  },
  {
   "cell_type": "markdown",
   "metadata": {},
   "source": [
    "***Predicting the movement***"
   ]
  },
  {
   "cell_type": "code",
   "execution_count": 21,
   "metadata": {},
   "outputs": [
    {
     "name": "stdout",
     "output_type": "stream",
     "text": [
      "                Lag1      Lag2      Lag3      Lag4      Lag5  ...  200d_ma  \\\n",
      "Date                                                          ...            \n",
      "2020-10-23 -1.593613  0.800013  1.657138  0.679357  0.229138  ...    52.32   \n",
      "2020-10-26 -0.265112 -1.593613  0.800013  1.657138  0.679357  ...    52.40   \n",
      "2020-10-27 -0.869510 -0.265112 -1.593613  0.800013  1.657138  ...    52.48   \n",
      "2020-10-28  0.605757 -0.869510 -0.265112 -1.593613  0.800013  ...    52.55   \n",
      "2020-10-29 -3.440857  0.605757 -0.869510 -0.265112 -1.593613  ...    52.61   \n",
      "\n",
      "             Std_dev        RSI  Williams %R  MACD_IND  \n",
      "Date                                                    \n",
      "2020-10-23  0.756501  50.779743   -38.141176  0.338732  \n",
      "2020-10-26  0.692300  47.052882   -74.801244  0.266362  \n",
      "2020-10-27  0.604622  49.909126   -61.838922  0.236591  \n",
      "2020-10-28  1.110273  37.057182   -79.114688  0.073847  \n",
      "2020-10-29  1.688569  30.924481   -96.496872 -0.120736  \n",
      "\n",
      "[5 rows x 16 columns]\n"
     ]
    },
    {
     "name": "stderr",
     "output_type": "stream",
     "text": [
      "<ipython-input-21-81622a029d81>:29: SettingWithCopyWarning: \n",
      "A value is trying to be set on a copy of a slice from a DataFrame.\n",
      "Try using .loc[row_indexer,col_indexer] = value instead\n",
      "\n",
      "See the caveats in the documentation: https://pandas.pydata.org/pandas-docs/stable/user_guide/indexing.html#returning-a-view-versus-a-copy\n",
      "  X['usdinr'] = df['usdinr']\n"
     ]
    },
    {
     "data": {
      "text/html": [
       "<div>\n",
       "<style scoped>\n",
       "    .dataframe tbody tr th:only-of-type {\n",
       "        vertical-align: middle;\n",
       "    }\n",
       "\n",
       "    .dataframe tbody tr th {\n",
       "        vertical-align: top;\n",
       "    }\n",
       "\n",
       "    .dataframe thead th {\n",
       "        text-align: right;\n",
       "    }\n",
       "</style>\n",
       "<table border=\"1\" class=\"dataframe\">\n",
       "  <thead>\n",
       "    <tr style=\"text-align: right;\">\n",
       "      <th></th>\n",
       "      <th>Today</th>\n",
       "      <th>Lag1</th>\n",
       "      <th>Lag2</th>\n",
       "      <th>Lag3</th>\n",
       "      <th>Lag4</th>\n",
       "      <th>Lag5</th>\n",
       "      <th>Lag6</th>\n",
       "      <th>Direction</th>\n",
       "    </tr>\n",
       "  </thead>\n",
       "  <tbody>\n",
       "    <tr>\n",
       "      <th>count</th>\n",
       "      <td>213.000000</td>\n",
       "      <td>213.000000</td>\n",
       "      <td>213.000000</td>\n",
       "      <td>213.000000</td>\n",
       "      <td>213.000000</td>\n",
       "      <td>213.000000</td>\n",
       "      <td>213.000000</td>\n",
       "      <td>213.000000</td>\n",
       "    </tr>\n",
       "    <tr>\n",
       "      <th>mean</th>\n",
       "      <td>0.141321</td>\n",
       "      <td>0.151664</td>\n",
       "      <td>0.169252</td>\n",
       "      <td>0.169608</td>\n",
       "      <td>0.182378</td>\n",
       "      <td>0.191538</td>\n",
       "      <td>0.200151</td>\n",
       "      <td>0.089202</td>\n",
       "    </tr>\n",
       "    <tr>\n",
       "      <th>std</th>\n",
       "      <td>2.662470</td>\n",
       "      <td>2.656670</td>\n",
       "      <td>2.645150</td>\n",
       "      <td>2.645214</td>\n",
       "      <td>2.646739</td>\n",
       "      <td>2.648558</td>\n",
       "      <td>2.645707</td>\n",
       "      <td>0.998360</td>\n",
       "    </tr>\n",
       "    <tr>\n",
       "      <th>min</th>\n",
       "      <td>-11.221052</td>\n",
       "      <td>-11.221052</td>\n",
       "      <td>-11.221052</td>\n",
       "      <td>-11.221052</td>\n",
       "      <td>-11.221052</td>\n",
       "      <td>-11.221052</td>\n",
       "      <td>-11.221052</td>\n",
       "      <td>-1.000000</td>\n",
       "    </tr>\n",
       "    <tr>\n",
       "      <th>25%</th>\n",
       "      <td>-0.903496</td>\n",
       "      <td>-0.869510</td>\n",
       "      <td>-0.850223</td>\n",
       "      <td>-0.850223</td>\n",
       "      <td>-0.844359</td>\n",
       "      <td>-0.844359</td>\n",
       "      <td>-0.816205</td>\n",
       "      <td>-1.000000</td>\n",
       "    </tr>\n",
       "    <tr>\n",
       "      <th>50%</th>\n",
       "      <td>0.169328</td>\n",
       "      <td>0.169328</td>\n",
       "      <td>0.195046</td>\n",
       "      <td>0.195046</td>\n",
       "      <td>0.212620</td>\n",
       "      <td>0.219325</td>\n",
       "      <td>0.229138</td>\n",
       "      <td>1.000000</td>\n",
       "    </tr>\n",
       "    <tr>\n",
       "      <th>75%</th>\n",
       "      <td>1.205706</td>\n",
       "      <td>1.205706</td>\n",
       "      <td>1.205706</td>\n",
       "      <td>1.205706</td>\n",
       "      <td>1.301824</td>\n",
       "      <td>1.323359</td>\n",
       "      <td>1.323359</td>\n",
       "      <td>1.000000</td>\n",
       "    </tr>\n",
       "    <tr>\n",
       "      <th>max</th>\n",
       "      <td>7.031671</td>\n",
       "      <td>7.031671</td>\n",
       "      <td>7.031671</td>\n",
       "      <td>7.031671</td>\n",
       "      <td>7.031671</td>\n",
       "      <td>7.031671</td>\n",
       "      <td>7.031671</td>\n",
       "      <td>1.000000</td>\n",
       "    </tr>\n",
       "  </tbody>\n",
       "</table>\n",
       "</div>"
      ],
      "text/plain": [
       "            Today        Lag1        Lag2        Lag3        Lag4        Lag5  \\\n",
       "count  213.000000  213.000000  213.000000  213.000000  213.000000  213.000000   \n",
       "mean     0.141321    0.151664    0.169252    0.169608    0.182378    0.191538   \n",
       "std      2.662470    2.656670    2.645150    2.645214    2.646739    2.648558   \n",
       "min    -11.221052  -11.221052  -11.221052  -11.221052  -11.221052  -11.221052   \n",
       "25%     -0.903496   -0.869510   -0.850223   -0.850223   -0.844359   -0.844359   \n",
       "50%      0.169328    0.169328    0.195046    0.195046    0.212620    0.219325   \n",
       "75%      1.205706    1.205706    1.205706    1.205706    1.301824    1.323359   \n",
       "max      7.031671    7.031671    7.031671    7.031671    7.031671    7.031671   \n",
       "\n",
       "             Lag6   Direction  \n",
       "count  213.000000  213.000000  \n",
       "mean     0.200151    0.089202  \n",
       "std      2.645707    0.998360  \n",
       "min    -11.221052   -1.000000  \n",
       "25%     -0.816205   -1.000000  \n",
       "50%      0.229138    1.000000  \n",
       "75%      1.323359    1.000000  \n",
       "max      7.031671    1.000000  "
      ]
     },
     "execution_count": 21,
     "metadata": {},
     "output_type": "execute_result"
    }
   ],
   "source": [
    "\n",
    "tslagret = pd.DataFrame(index=df.index)\n",
    "tslagret[\"Today\"] = df[\"Close\"]\n",
    "no_lags = 6\n",
    "for i in range(0, no_lags):\n",
    "    tslagret[\"Lag%s\" % str(i + 1)] = df[\"Close\"].shift(i + 1)\n",
    "    \n",
    "\n",
    "df_ret = pd.DataFrame(index=tslagret.index)\n",
    "df_ret[\"Today\"] = tslagret[\"Today\"].pct_change()*100.0\n",
    "\n",
    "for i in range(0, no_lags):\n",
    "    df_ret[\"Lag%s\" % str(i + 1)] = tslagret[\"Lag%s\" % str(i + 1)].pct_change() * 100.0\n",
    "\n",
    "df_ret.drop(df_ret.index[:7], inplace=True)\n",
    "\n",
    "\n",
    "df_ret[\"Direction\"] = np.sign(df_ret[\"Today\"])\n",
    "\n",
    "df_ret[\"Direction\"] = np.where(df_ret[\"Direction\"] <= 0, -1 , 1)\n",
    "\n",
    "#df_ret[\"Direction\"] = np.where(df['Close'].shift(-1) > df['Close'], 1,-1)\n",
    "\n",
    "\n",
    "\n",
    "data = df_ret.copy()\n",
    "\n",
    "X = data[[\"Lag1\", \"Lag2\", \"Lag3\", \"Lag4\",\"Lag5\",\"Lag6\"]]\n",
    "\n",
    "X['usdinr'] = df['usdinr']\n",
    "\n",
    "X['usdsilver'] = df['usdsilver']\n",
    "\n",
    "X[\"20d_ma\"] = df[ '20d_ma' ]\n",
    "\n",
    "X[\"50d_ma\"] =  df['50d_ma']\n",
    "\n",
    "X[\"100d_ma\"] =  df['100d_ma']\n",
    "\n",
    "X[\"200d_ma\"] =  df['200d_ma']\n",
    "\n",
    "X['Std_dev'] = df['Std_dev']\n",
    "\n",
    "X['RSI'] = df['RSI']\n",
    "\n",
    "X['Williams %R'] = df['Williams %R']\n",
    "\n",
    "X['MACD_IND'] = df['MACD_IND'] \n",
    "\n",
    "\n",
    "y = data[\"Direction\"]\n",
    "\n",
    "print(X.tail())\n",
    "\n",
    "data.describe()\n",
    "\n"
   ]
  },
  {
   "cell_type": "code",
   "execution_count": 22,
   "metadata": {},
   "outputs": [],
   "source": [
    "start_test = datetime(2020, 8, 1)\n",
    "\n",
    "X_train = X[X.index < start_test]\n",
    "X_test = X[X.index >= start_test]\n",
    "y_train = y[y.index < start_test]\n",
    "y_test = y[y.index >= start_test]\n"
   ]
  },
  {
   "cell_type": "code",
   "execution_count": 23,
   "metadata": {},
   "outputs": [],
   "source": [
    "\n",
    "model = LogisticRegression()\n"
   ]
  },
  {
   "cell_type": "code",
   "execution_count": 24,
   "metadata": {},
   "outputs": [
    {
     "name": "stderr",
     "output_type": "stream",
     "text": [
      "C:\\Users\\Admin\\.conda\\envs\\myenv\\lib\\site-packages\\sklearn\\linear_model\\_logistic.py:762: ConvergenceWarning: lbfgs failed to converge (status=1):\n",
      "STOP: TOTAL NO. of ITERATIONS REACHED LIMIT.\n",
      "\n",
      "Increase the number of iterations (max_iter) or scale the data as shown in:\n",
      "    https://scikit-learn.org/stable/modules/preprocessing.html\n",
      "Please also refer to the documentation for alternative solver options:\n",
      "    https://scikit-learn.org/stable/modules/linear_model.html#logistic-regression\n",
      "  n_iter_i = _check_optimize_result(\n"
     ]
    },
    {
     "data": {
      "text/plain": [
       "LogisticRegression()"
      ]
     },
     "execution_count": 24,
     "metadata": {},
     "output_type": "execute_result"
    }
   ],
   "source": [
    "model.fit(X_train, y_train)\n"
   ]
  },
  {
   "cell_type": "code",
   "execution_count": 25,
   "metadata": {},
   "outputs": [],
   "source": [
    "y_pred = model.predict(X_test)\n"
   ]
  },
  {
   "cell_type": "code",
   "execution_count": 26,
   "metadata": {},
   "outputs": [
    {
     "name": "stdout",
     "output_type": "stream",
     "text": [
      "Accuracy:  0.8253968253968254\n"
     ]
    }
   ],
   "source": [
    "print('Accuracy: ',metrics.accuracy_score(y_test, y_pred))\n"
   ]
  },
  {
   "cell_type": "code",
   "execution_count": 27,
   "metadata": {},
   "outputs": [
    {
     "name": "stdout",
     "output_type": "stream",
     "text": [
      "[[22  1]\n",
      " [10 30]]\n"
     ]
    }
   ],
   "source": [
    "print(confusion_matrix(y_pred,y_test))\n"
   ]
  },
  {
   "cell_type": "code",
   "execution_count": 28,
   "metadata": {},
   "outputs": [],
   "source": [
    "comp = pd.DataFrame()\n",
    "comp['y_test'] = y_test\n",
    "comp['y_pred'] = y_pred\n"
   ]
  },
  {
   "cell_type": "code",
   "execution_count": 29,
   "metadata": {},
   "outputs": [
    {
     "name": "stdout",
     "output_type": "stream",
     "text": [
      "            y_test  y_pred\n",
      "Date                      \n",
      "2020-08-03       1       1\n",
      "2020-08-04       1       1\n",
      "2020-08-05       1       1\n",
      "2020-08-06       1       1\n",
      "2020-08-07      -1      -1\n",
      "...            ...     ...\n",
      "2020-10-23      -1       1\n",
      "2020-10-26      -1      -1\n",
      "2020-10-27       1       1\n",
      "2020-10-28      -1      -1\n",
      "2020-10-29      -1      -1\n",
      "\n",
      "[63 rows x 2 columns]\n",
      "-1\n"
     ]
    }
   ],
   "source": [
    "\n",
    "print(comp)\n",
    "\n",
    "predict = model.predict(X_test.tail(1))\n",
    "print(int(predict)) # 1: UP, -1: DOWN\n"
   ]
  },
  {
   "cell_type": "code",
   "execution_count": null,
   "metadata": {},
   "outputs": [],
   "source": []
  }
 ],
 "metadata": {
  "kernelspec": {
   "display_name": "Python 3",
   "language": "python",
   "name": "python3"
  },
  "language_info": {
   "codemirror_mode": {
    "name": "ipython",
    "version": 3
   },
   "file_extension": ".py",
   "mimetype": "text/x-python",
   "name": "python",
   "nbconvert_exporter": "python",
   "pygments_lexer": "ipython3",
   "version": "3.8.5"
  }
 },
 "nbformat": 4,
 "nbformat_minor": 4
}
